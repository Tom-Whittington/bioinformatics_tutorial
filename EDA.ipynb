{
 "cells": [
  {
   "cell_type": "code",
   "execution_count": 22,
   "id": "fa562037",
   "metadata": {},
   "outputs": [],
   "source": [
    "# Install RDKit.\n",
    "#!pip install rdkit-pypi"
   ]
  },
  {
   "cell_type": "code",
   "execution_count": 23,
   "id": "c70c5158",
   "metadata": {},
   "outputs": [],
   "source": [
    "from rdkit import Chem\n",
    "from rdkit.Chem import Draw\n",
    "from rdkit.Chem.Draw import IPythonConsole\n",
    "from rdkit.Chem import Descriptors, Lipinski\n",
    "from rdkit.Chem import AllChem\n",
    "from rdkit import DataStructs\n",
    "import numpy as np\n",
    "import pandas as pd"
   ]
  },
  {
   "cell_type": "code",
   "execution_count": 24,
   "id": "4edade59",
   "metadata": {},
   "outputs": [],
   "source": [
    "df=pd.read_csv('coronavirus_CHEMBL3927_preprocessed.csv')"
   ]
  },
  {
   "cell_type": "markdown",
   "id": "ab95c5aa",
   "metadata": {},
   "source": [
    "def lipinksi(smiles, verbose = False)\n",
    "\n",
    "    moldata=[]\n",
    "    for elem in smiles:\n",
    "        mol=Chem.MolFromSmiles(elem)\n",
    "        moldata.append(mol)\n",
    "    \n",
    "    baseData = np.arrange(1,1)\n",
    "    i=0\n",
    "    for mol in moldata:\n",
    "        \n",
    "        desc_MolWt = Descriptors.MolWt(mol)\n",
    "        desc_MolLogP = Descriptors.MolLogP(mol)\n",
    "        desc_NumHDonors = Lipinksi.NumHdonors(mol)\n",
    "        desc_NumHAcceptors = Lipinski.NumHAcceptors(mol)"
   ]
  },
  {
   "cell_type": "code",
   "execution_count": 25,
   "id": "c4140265",
   "metadata": {},
   "outputs": [],
   "source": [
    "mol_list = []\n",
    "for elem in df[\"canonical_smiles\"]:\n",
    "    mol=Chem.MolFromSmiles(elem)\n",
    "    mol_list.append(mol)"
   ]
  },
  {
   "cell_type": "code",
   "execution_count": 26,
   "id": "6e2c5a45",
   "metadata": {},
   "outputs": [],
   "source": [
    "mol_wt_list = []\n",
    "for mol in mol_list:\n",
    "    mol_wt=Descriptors.MolWt(mol)\n",
    "    mol_wt_list.append(mol_wt)\n",
    "df[\"mol_wt\"] = mol_wt_list"
   ]
  },
  {
   "cell_type": "code",
   "execution_count": 27,
   "id": "d01bfaa7",
   "metadata": {},
   "outputs": [],
   "source": [
    "logP_list = []\n",
    "for mol in mol_list:\n",
    "    logP=Descriptors.MolLogP(mol)\n",
    "    logP_list.append(logP)\n",
    "df[\"logP\"] = logP_list"
   ]
  },
  {
   "cell_type": "code",
   "execution_count": 28,
   "id": "4b11b88b",
   "metadata": {},
   "outputs": [
    {
     "ename": "NameError",
     "evalue": "name 'Lipinksi' is not defined",
     "output_type": "error",
     "traceback": [
      "\u001b[0;31m---------------------------------------------------------------------------\u001b[0m",
      "\u001b[0;31mNameError\u001b[0m                                 Traceback (most recent call last)",
      "Input \u001b[0;32mIn [28]\u001b[0m, in \u001b[0;36m<module>\u001b[0;34m\u001b[0m\n\u001b[1;32m      1\u001b[0m num_H_don_list \u001b[38;5;241m=\u001b[39m []\n\u001b[1;32m      2\u001b[0m \u001b[38;5;28;01mfor\u001b[39;00m mol \u001b[38;5;129;01min\u001b[39;00m mol_list:\n\u001b[0;32m----> 3\u001b[0m     num_H_don\u001b[38;5;241m=\u001b[39m\u001b[43mLipinksi\u001b[49m\u001b[38;5;241m.\u001b[39mNumHdonors(mol)\n\u001b[1;32m      4\u001b[0m     num_H_don_list\u001b[38;5;241m.\u001b[39mappend(num_H_don)\n\u001b[1;32m      5\u001b[0m df[\u001b[38;5;124m\"\u001b[39m\u001b[38;5;124mnum_H_don\u001b[39m\u001b[38;5;124m\"\u001b[39m] \u001b[38;5;241m=\u001b[39m num_H_don_list\n",
      "\u001b[0;31mNameError\u001b[0m: name 'Lipinksi' is not defined"
     ]
    }
   ],
   "source": [
    "num_H_don_list = []\n",
    "for mol in mol_list:\n",
    "    num_H_don=Lipinksi.NumHdonors(mol)\n",
    "    num_H_don_list.append(num_H_don)\n",
    "df[\"num_H_don\"] = num_H_don_list"
   ]
  },
  {
   "cell_type": "code",
   "execution_count": null,
   "id": "53f247fd",
   "metadata": {},
   "outputs": [],
   "source": [
    "attributes = [\"MolWt\", \"MolLogP\", \"NumHdonors\", \"NumHacceptors\"]"
   ]
  },
  {
   "cell_type": "code",
   "execution_count": null,
   "id": "49a78e43",
   "metadata": {},
   "outputs": [],
   "source": [
    "for attribute in attributes:\n",
    "    attribute + \"_list\" = []\n",
    "        for mol in mol_list:\n",
    "        attribute = Descriptors.attribute(mol)\n",
    "        attribute + \"_list\".append(attribute)\n",
    "    df[attribute]=attribute + \"_list\"\n",
    "    "
   ]
  }
 ],
 "metadata": {
  "kernelspec": {
   "display_name": "Python 3 (ipykernel)",
   "language": "python",
   "name": "python3"
  },
  "language_info": {
   "codemirror_mode": {
    "name": "ipython",
    "version": 3
   },
   "file_extension": ".py",
   "mimetype": "text/x-python",
   "name": "python",
   "nbconvert_exporter": "python",
   "pygments_lexer": "ipython3",
   "version": "3.10.2"
  }
 },
 "nbformat": 4,
 "nbformat_minor": 5
}
